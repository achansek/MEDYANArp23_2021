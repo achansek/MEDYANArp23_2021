{
 "cells": [
  {
   "cell_type": "code",
   "execution_count": null,
   "metadata": {},
   "outputs": [],
   "source": [
    "import scipy.io\n",
    "import os \n",
    "import matplotlib.pyplot as plt\n",
    "import numpy as np\n",
    "dirname = os.getcwd()\n",
    "print(dirname)\n",
    "mat = scipy.io.loadmat('pdataBoxplotV2-M-A-0-1.mat')\n",
    "#globals()\n",
    "pdatamasslist = list([mat['pdatamass1'][0],mat['pdatamass2'][0],mat['pdatamass3'][0],mat['pdatamass4'][0],mat['pdatamass5'][0],mat['pdatamass6'][0]])\n",
    "pdatavollist = list([mat['pdatavol1'][0],mat['pdatavol2'][0],mat['pdatavol3'][0],mat['pdatavol4'][0],mat['pdatavol5'][0],mat['pdatavol6'][0]])\n",
    "fig, ax = plt.subplots(figsize=(8, 6), dpi=80, facecolor='w', edgecolor='k')\n",
    "plt.rc('font', size=30) \n",
    "plt.rc('lines',linewidth=2)\n",
    "# build a violin plot\n",
    "parts=ax.violinplot(pdatavollist, points=100,showmeans=False, showmedians=False, showextrema=False, widths=0.9)\n",
    "                    #quantiles=[[0.25,0.75], [0.25,0.75], [0.25,0.75], [0.25,0.75], [0.25,0.75],[0.25,0.75]])\n",
    "# add x-tick labels\n",
    "xticklabels = ['0', '1', '5', '10', '25', '50']\n",
    "ax.set_xticks([1,2,3,4,5,6])\n",
    "ax.set_xticklabels(xticklabels)\n",
    "ax.set_xlabel('[Arp2/3] in nM')\n",
    "ax.set_ylabel('Domain volume ($\\mu m^3$)')\n",
    "#Change color\n",
    "for pc in parts['bodies']:\n",
    "    pc.set_facecolor('#D43F3A')\n",
    "    pc.set_edgecolor('#000000')\n",
    "    pc.set_alpha(1)\n",
    "    pc.set_linewidth(2)\n",
    "#Draw quartiles\n",
    "bp=ax.boxplot(pdatavollist, notch=True, widths=0.1)\n",
    "# changing color and linewidth of whiskers \n",
    "for whisker in bp['whiskers']: \n",
    "    whisker.set(color ='yellow', \n",
    "                linewidth = 2, \n",
    "                linestyle =\"-\") \n",
    "# changing color and linewidth of caps \n",
    "for cap in bp['caps']: \n",
    "    cap.set(color ='yellow', \n",
    "            linewidth = 2) \n",
    "# changing color and linewidth of medians \n",
    "for median in bp['medians']: \n",
    "    median.set(color ='white', \n",
    "               linewidth = 8) \n",
    "# changing style of fliers \n",
    "for flier in bp['fliers']: \n",
    "    flier.set(marker ='o', \n",
    "              markerfacecolor ='yellow', \n",
    "              markersize=8,\n",
    "              alpha = 1)\n",
    "# add x-tick labels\n",
    "xticklabels = ['0', '1', '5', '10', '25', '50']\n",
    "ax.set_xticks([1,2,3,4,5,6])\n",
    "ax.set_xticklabels(xticklabels)\n",
    "plt.savefig('Domainvolume.png', dpi=300)"
   ]
  }
 ],
 "metadata": {
  "kernelspec": {
   "display_name": "Python 3",
   "language": "python",
   "name": "python3"
  },
  "language_info": {
   "codemirror_mode": {
    "name": "ipython",
    "version": 3
   },
   "file_extension": ".py",
   "mimetype": "text/x-python",
   "name": "python",
   "nbconvert_exporter": "python",
   "pygments_lexer": "ipython3",
   "version": "3.8.5"
  }
 },
 "nbformat": 4,
 "nbformat_minor": 4
}
